{
 "cells": [
  {
   "cell_type": "code",
   "execution_count": 2,
   "metadata": {},
   "outputs": [
    {
     "name": "stdout",
     "output_type": "stream",
     "text": [
      "Testing...\n",
      "The condition is True!\n"
     ]
    }
   ],
   "source": [
    "print('Testing...')\n",
    "if True:\n",
    "    print('The condition is True!')"
   ]
  },
  {
   "cell_type": "code",
   "execution_count": 3,
   "metadata": {},
   "outputs": [
    {
     "name": "stdout",
     "output_type": "stream",
     "text": [
      "Testing...\n"
     ]
    }
   ],
   "source": [
    "print('Testing...')\n",
    "if False:\n",
    "    print('The condition is True!')"
   ]
  },
  {
   "cell_type": "code",
   "execution_count": 19,
   "metadata": {},
   "outputs": [
    {
     "data": {
      "text/plain": [
       "(True, False)"
      ]
     },
     "execution_count": 19,
     "metadata": {},
     "output_type": "execute_result"
    }
   ],
   "source": [
    "x=5\n",
    "x==5, x!=5"
   ]
  },
  {
   "cell_type": "code",
   "execution_count": 5,
   "metadata": {},
   "outputs": [
    {
     "name": "stdout",
     "output_type": "stream",
     "text": [
      "x is equal to 5\n",
      "x is greater than 4\n",
      "x is not equal to 4\n"
     ]
    }
   ],
   "source": [
    "x = 5\n",
    "if x==5:\n",
    "    print('x is equal to 5')\n",
    "\n",
    "if x==4:\n",
    "    print('x is equal to 4')\n",
    "\n",
    "if x>4:\n",
    "    print('x is greater than 4')\n",
    "\n",
    "if x<=4:\n",
    "    print('x is less than 4')\n",
    "\n",
    "if x!=4:\n",
    "    print('x is not equal to 4')"
   ]
  },
  {
   "cell_type": "code",
   "execution_count": 6,
   "metadata": {},
   "outputs": [
    {
     "name": "stdout",
     "output_type": "stream",
     "text": [
      "x is not equal to 4\n",
      "x is not less than 4\n"
     ]
    }
   ],
   "source": [
    "x = 5\n",
    "if not x==5:\n",
    "    print('x is not equal to 5')\n",
    "\n",
    "if not x==4:\n",
    "    print('x is not equal to 4')\n",
    "\n",
    "if not x>4:\n",
    "    print('x is not greater than 4')\n",
    "\n",
    "if not x<=4:\n",
    "    print('x is not less than 4')\n",
    "\n",
    "if not x!=4:\n",
    "    print('x is equal to 4')"
   ]
  },
  {
   "cell_type": "code",
   "execution_count": 7,
   "metadata": {},
   "outputs": [
    {
     "name": "stdout",
     "output_type": "stream",
     "text": [
      "x is not equal to 4\n"
     ]
    }
   ],
   "source": [
    "x = 5\n",
    "if x==4:\n",
    "    print('x is equal to 4')\n",
    "else:\n",
    "    print('x is not equal to 4')"
   ]
  },
  {
   "cell_type": "code",
   "execution_count": 10,
   "metadata": {},
   "outputs": [
    {
     "name": "stdout",
     "output_type": "stream",
     "text": [
      "x neither equal to 4 or 5\n"
     ]
    }
   ],
   "source": [
    "x = 3\n",
    "if x==4:\n",
    "    print('x is equal to 4')\n",
    "elif x==5:\n",
    "    print('x is equal to 5')\n",
    "else:\n",
    "    print('x equals neither 4 or 5')"
   ]
  },
  {
   "cell_type": "code",
   "execution_count": 16,
   "metadata": {},
   "outputs": [
    {
     "name": "stdout",
     "output_type": "stream",
     "text": [
      "x is equal to 5\n",
      "x equals neither 4 or 5\n"
     ]
    }
   ],
   "source": [
    "x = 5\n",
    "if x==4:\n",
    "    print('x is equal to 4')\n",
    "elif x==5:\n",
    "    print('x is equal to 5')\n",
    "else:\n",
    "    print('Testing...')\n",
    "# THIS IS WRONG! It should be indented\n",
    "print('x equals neither 4 or 5')"
   ]
  },
  {
   "cell_type": "code",
   "execution_count": 17,
   "metadata": {},
   "outputs": [
    {
     "data": {
      "text/plain": [
       "True"
      ]
     },
     "execution_count": 17,
     "metadata": {},
     "output_type": "execute_result"
    }
   ],
   "source": [
    "x==5"
   ]
  },
  {
   "cell_type": "code",
   "execution_count": 22,
   "metadata": {},
   "outputs": [
    {
     "name": "stdout",
     "output_type": "stream",
     "text": [
      "x does not equal 5\n"
     ]
    },
    {
     "data": {
      "text/plain": [
       "6"
      ]
     },
     "execution_count": 22,
     "metadata": {},
     "output_type": "execute_result"
    }
   ],
   "source": [
    "x = 5\n",
    "y = 3\n",
    "# Testing out the conditional\n",
    "if True: #x!=5:\n",
    "    print('x does not equal 5')\n",
    "    y += 3\n",
    "y"
   ]
  },
  {
   "cell_type": "code",
   "execution_count": 23,
   "metadata": {},
   "outputs": [],
   "source": [
    "import os\n",
    "import pathlib"
   ]
  },
  {
   "cell_type": "code",
   "execution_count": 32,
   "metadata": {},
   "outputs": [
    {
     "data": {
      "text/plain": [
       "PosixPath('/home/jovyan')"
      ]
     },
     "execution_count": 32,
     "metadata": {},
     "output_type": "execute_result"
    }
   ],
   "source": [
    "home_dir = pathlib.Path.home()\n",
    "home_dir"
   ]
  },
  {
   "cell_type": "code",
   "execution_count": 33,
   "metadata": {},
   "outputs": [
    {
     "data": {
      "text/plain": [
       "'/home/jovyan/earth-analytics'"
      ]
     },
     "execution_count": 33,
     "metadata": {},
     "output_type": "execute_result"
    }
   ],
   "source": [
    "ea_dir = os.path.join(home_dir, 'earth-analytics')\n",
    "ea_dir"
   ]
  },
  {
   "cell_type": "code",
   "execution_count": 30,
   "metadata": {},
   "outputs": [
    {
     "name": "stdout",
     "output_type": "stream",
     "text": [
      "/home/jovyan/earth-analytics already exists!\n"
     ]
    }
   ],
   "source": [
    "if not os.path.exists(ea_dir):\n",
    "    print(f'{ea_dir} does not exist. Creating...')\n",
    "    os.makedirs('ea_dir')\n",
    "else:\n",
    "    print(f'{ea_dir} already exists!')"
   ]
  },
  {
   "cell_type": "code",
   "execution_count": 34,
   "metadata": {},
   "outputs": [
    {
     "data": {
      "text/plain": [
       "'/home/jovyan/test_folder'"
      ]
     },
     "execution_count": 34,
     "metadata": {},
     "output_type": "execute_result"
    }
   ],
   "source": [
    "new_dir = os.path.join(home_dir, 'test_folder')\n",
    "new_dir"
   ]
  },
  {
   "cell_type": "code",
   "execution_count": 37,
   "metadata": {},
   "outputs": [],
   "source": [
    "os.makedirs(new_dir, exist_ok=True)"
   ]
  }
 ],
 "metadata": {
  "kernelspec": {
   "display_name": "base",
   "language": "python",
   "name": "python3"
  },
  "language_info": {
   "codemirror_mode": {
    "name": "ipython",
    "version": 3
   },
   "file_extension": ".py",
   "mimetype": "text/x-python",
   "name": "python",
   "nbconvert_exporter": "python",
   "pygments_lexer": "ipython3",
   "version": "3.10.11"
  }
 },
 "nbformat": 4,
 "nbformat_minor": 2
}
